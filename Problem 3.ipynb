{
    "nbformat_minor": 1, 
    "cells": [
        {
            "source": "# Capstone project notebook\n\n##\u00a0Problem 3", 
            "cell_type": "markdown", 
            "metadata": {}
        }, 
        {
            "source": "### What Is the Relationship between Housing Characteristics and Complaints?\nThe goal of this exercise is to find the answer to the Question 3 of the problem statement: \n\n### Does the Complaint Type that you identified in response to Question 1 have an obvious relationship with any particular characteristic or characteristic of the Houses?\n\nIn this exercise, use the 311 dataset.\n\nYou also need to read back the PLUTO dataset from Cloud Object Store that you saved previously in the course. Use the PLUTO dataset for the borough that you already identified to focus on the last exercise.Ensure that you use only a limited number of fields from the dataset so that you are not consuming too much memory during your analysis.\n\nThe recommended fields are Address, BldgArea, BldgDepth, BuiltFAR, CommFAR, FacilFAR, Lot, LotArea, LotDepth, NumBldgs, NumFloors, OfficeArea, ResArea, ResidFAR, RetailArea, YearBuilt, YearAlter1, ZipCode, YCoord, and XCoord.", 
            "cell_type": "markdown", 
            "metadata": {
                "collapsed": true
            }
        }, 
        {
            "source": "import types\nimport pandas as pd\nfrom botocore.client import Config\nimport ibm_boto3\n\ndef __iter__(self): return 0\n\n# @hidden_cell\n# The following code accesses a file in your IBM Cloud Object Storage. It includes your credentials.\n# You might want to remove those credentials before you share your notebook.\nclient_cba83a820ee941cd921cc2bbfefd15eb = ibm_boto3.client(service_name='s3',\n    ibm_api_key_id='56RsTx8E6jPTOm05rXcEWp-YR-lpps36XB-mae6-wNk9',\n    ibm_auth_endpoint=\"https://iam.bluemix.net/oidc/token\",\n    config=Config(signature_version='oauth'),\n    endpoint_url='https://s3-api.us-geo.objectstorage.service.networklayer.com')\n\nbody = client_cba83a820ee941cd921cc2bbfefd15eb.get_object(Bucket='edx1-donotdelete-pr-ffppmpbmudcobi',Key='nyc311.csv')['Body']\n# add missing __iter__ method, so pandas accepts body as file-like object\nif not hasattr(body, \"__iter__\"): body.__iter__ = types.MethodType( __iter__, body )\n\ndf_311 = pd.read_csv(body)\ndf_311.head()", 
            "cell_type": "code", 
            "metadata": {
                "scrolled": false
            }, 
            "outputs": [
                {
                    "output_type": "execute_result", 
                    "data": {
                        "text/html": "<div>\n<style scoped>\n    .dataframe tbody tr th:only-of-type {\n        vertical-align: middle;\n    }\n\n    .dataframe tbody tr th {\n        vertical-align: top;\n    }\n\n    .dataframe thead th {\n        text-align: right;\n    }\n</style>\n<table border=\"1\" class=\"dataframe\">\n  <thead>\n    <tr style=\"text-align: right;\">\n      <th></th>\n      <th>address_type</th>\n      <th>borough</th>\n      <th>city</th>\n      <th>closed_date</th>\n      <th>complaint_type</th>\n      <th>created_date</th>\n      <th>incident_address</th>\n      <th>incident_zip</th>\n      <th>latitude</th>\n      <th>location_type</th>\n      <th>longitude</th>\n      <th>resolution_description</th>\n      <th>status</th>\n      <th>street_name</th>\n      <th>unique_key</th>\n    </tr>\n  </thead>\n  <tbody>\n    <tr>\n      <th>0</th>\n      <td>ADDRESS</td>\n      <td>BRONX</td>\n      <td>BRONX</td>\n      <td>2018-04-24T14:15:01.000</td>\n      <td>GENERAL</td>\n      <td>2017-12-12T10:05:40.000</td>\n      <td>383 EAST  162 STREET</td>\n      <td>10451.0</td>\n      <td>40.824952</td>\n      <td>RESIDENTIAL BUILDING</td>\n      <td>-73.913944</td>\n      <td>The Department of Housing Preservation and Dev...</td>\n      <td>Closed</td>\n      <td>EAST  162 STREET</td>\n      <td>37914383</td>\n    </tr>\n    <tr>\n      <th>1</th>\n      <td>ADDRESS</td>\n      <td>BRONX</td>\n      <td>BRONX</td>\n      <td>2018-04-24T14:15:02.000</td>\n      <td>GENERAL</td>\n      <td>2018-01-08T12:47:29.000</td>\n      <td>383 EAST  162 STREET</td>\n      <td>10451.0</td>\n      <td>40.824952</td>\n      <td>RESIDENTIAL BUILDING</td>\n      <td>-73.913944</td>\n      <td>The Department of Housing Preservation and Dev...</td>\n      <td>Closed</td>\n      <td>EAST  162 STREET</td>\n      <td>38152033</td>\n    </tr>\n    <tr>\n      <th>2</th>\n      <td>ADDRESS</td>\n      <td>QUEENS</td>\n      <td>Woodside</td>\n      <td>2018-04-24T21:29:42.000</td>\n      <td>PAINT/PLASTER</td>\n      <td>2018-01-08T22:33:51.000</td>\n      <td>60-10 47 AVENUE</td>\n      <td>11377.0</td>\n      <td>40.739912</td>\n      <td>RESIDENTIAL BUILDING</td>\n      <td>-73.904328</td>\n      <td>The Department of Housing Preservation and Dev...</td>\n      <td>Closed</td>\n      <td>47 AVENUE</td>\n      <td>38157143</td>\n    </tr>\n    <tr>\n      <th>3</th>\n      <td>ADDRESS</td>\n      <td>QUEENS</td>\n      <td>Astoria</td>\n      <td>2018-04-24T09:50:17.000</td>\n      <td>APPLIANCE</td>\n      <td>2018-01-12T17:09:03.000</td>\n      <td>34-15 31 STREET</td>\n      <td>11106.0</td>\n      <td>40.759282</td>\n      <td>RESIDENTIAL BUILDING</td>\n      <td>-73.927550</td>\n      <td>The Department of Housing Preservation and Dev...</td>\n      <td>Closed</td>\n      <td>31 STREET</td>\n      <td>38205215</td>\n    </tr>\n    <tr>\n      <th>4</th>\n      <td>ADDRESS</td>\n      <td>QUEENS</td>\n      <td>Astoria</td>\n      <td>2018-04-24T09:50:18.000</td>\n      <td>DOOR/WINDOW</td>\n      <td>2018-01-22T14:04:15.000</td>\n      <td>30-34 32 STREET</td>\n      <td>11102.0</td>\n      <td>40.765523</td>\n      <td>RESIDENTIAL BUILDING</td>\n      <td>-73.921410</td>\n      <td>The Department of Housing Preservation and Dev...</td>\n      <td>Closed</td>\n      <td>32 STREET</td>\n      <td>38275095</td>\n    </tr>\n  </tbody>\n</table>\n</div>", 
                        "text/plain": "  address_type borough      city              closed_date complaint_type  \\\n0      ADDRESS   BRONX     BRONX  2018-04-24T14:15:01.000        GENERAL   \n1      ADDRESS   BRONX     BRONX  2018-04-24T14:15:02.000        GENERAL   \n2      ADDRESS  QUEENS  Woodside  2018-04-24T21:29:42.000  PAINT/PLASTER   \n3      ADDRESS  QUEENS   Astoria  2018-04-24T09:50:17.000      APPLIANCE   \n4      ADDRESS  QUEENS   Astoria  2018-04-24T09:50:18.000    DOOR/WINDOW   \n\n              created_date      incident_address  incident_zip   latitude  \\\n0  2017-12-12T10:05:40.000  383 EAST  162 STREET       10451.0  40.824952   \n1  2018-01-08T12:47:29.000  383 EAST  162 STREET       10451.0  40.824952   \n2  2018-01-08T22:33:51.000       60-10 47 AVENUE       11377.0  40.739912   \n3  2018-01-12T17:09:03.000       34-15 31 STREET       11106.0  40.759282   \n4  2018-01-22T14:04:15.000       30-34 32 STREET       11102.0  40.765523   \n\n          location_type  longitude  \\\n0  RESIDENTIAL BUILDING -73.913944   \n1  RESIDENTIAL BUILDING -73.913944   \n2  RESIDENTIAL BUILDING -73.904328   \n3  RESIDENTIAL BUILDING -73.927550   \n4  RESIDENTIAL BUILDING -73.921410   \n\n                              resolution_description  status  \\\n0  The Department of Housing Preservation and Dev...  Closed   \n1  The Department of Housing Preservation and Dev...  Closed   \n2  The Department of Housing Preservation and Dev...  Closed   \n3  The Department of Housing Preservation and Dev...  Closed   \n4  The Department of Housing Preservation and Dev...  Closed   \n\n        street_name  unique_key  \n0  EAST  162 STREET    37914383  \n1  EAST  162 STREET    38152033  \n2         47 AVENUE    38157143  \n3         31 STREET    38205215  \n4         32 STREET    38275095  "
                    }, 
                    "execution_count": 2, 
                    "metadata": {}
                }
            ], 
            "execution_count": 2
        }, 
        {
            "source": "### Read Bronx file\n\nTo prevent loading unnecesary data, we select the columns to load", 
            "cell_type": "markdown", 
            "metadata": {}
        }, 
        {
            "source": "body = client_cba83a820ee941cd921cc2bbfefd15eb.get_object(Bucket='edx1-donotdelete-pr-ffppmpbmudcobi',Key='bronxs.csv')['Body']\n# add missing __iter__ method, so pandas accepts body as file-like object\nif not hasattr(body, \"__iter__\"): body.__iter__ = types.MethodType( __iter__, body )\ncols_to_read = [  'Address',\n                  'BldgArea',\n                  'BldgDepth',\n                  'BuiltFAR',\n                  'CommFAR',\n                  'FacilFAR',\n                  'Lot', \n                  'LotArea',\n                  'LotDepth',\n                  'NumBldgs',\n                  'NumFloors',\n                  'OfficeArea',\n                  'ResArea',\n                  'ResidFAR',\n                  'RetailArea',\n                  'YearBuilt',\n                  'YearAlter1',\n                  'ZipCode',\n                  'YCoord',\n                  'XCoord']\ndf_bronx_info = pd.read_csv(body, usecols=cols_to_read)", 
            "cell_type": "code", 
            "metadata": {}, 
            "outputs": [], 
            "execution_count": 3
        }, 
        {
            "source": "df_bronx_info.head()", 
            "cell_type": "code", 
            "metadata": {}, 
            "outputs": [
                {
                    "output_type": "execute_result", 
                    "data": {
                        "text/html": "<div>\n<style scoped>\n    .dataframe tbody tr th:only-of-type {\n        vertical-align: middle;\n    }\n\n    .dataframe tbody tr th {\n        vertical-align: top;\n    }\n\n    .dataframe thead th {\n        text-align: right;\n    }\n</style>\n<table border=\"1\" class=\"dataframe\">\n  <thead>\n    <tr style=\"text-align: right;\">\n      <th></th>\n      <th>Lot</th>\n      <th>ZipCode</th>\n      <th>Address</th>\n      <th>LotArea</th>\n      <th>BldgArea</th>\n      <th>ResArea</th>\n      <th>OfficeArea</th>\n      <th>RetailArea</th>\n      <th>NumBldgs</th>\n      <th>NumFloors</th>\n      <th>LotDepth</th>\n      <th>BldgDepth</th>\n      <th>YearBuilt</th>\n      <th>YearAlter1</th>\n      <th>BuiltFAR</th>\n      <th>ResidFAR</th>\n      <th>CommFAR</th>\n      <th>FacilFAR</th>\n      <th>XCoord</th>\n      <th>YCoord</th>\n    </tr>\n  </thead>\n  <tbody>\n    <tr>\n      <th>0</th>\n      <td>1</td>\n      <td>10454.0</td>\n      <td>122 BRUCKNER BOULEVARD</td>\n      <td>15000</td>\n      <td>0</td>\n      <td>0</td>\n      <td>0</td>\n      <td>0</td>\n      <td>1</td>\n      <td>0.0</td>\n      <td>200.0</td>\n      <td>0.0</td>\n      <td>0</td>\n      <td>0</td>\n      <td>0.00</td>\n      <td>6.02</td>\n      <td>5.0</td>\n      <td>6.5</td>\n      <td>1005957.0</td>\n      <td>232162.0</td>\n    </tr>\n    <tr>\n      <th>1</th>\n      <td>4</td>\n      <td>10454.0</td>\n      <td>126 BRUCKNER BOULEVARD</td>\n      <td>13770</td>\n      <td>752</td>\n      <td>0</td>\n      <td>272</td>\n      <td>0</td>\n      <td>2</td>\n      <td>1.0</td>\n      <td>100.0</td>\n      <td>16.0</td>\n      <td>1931</td>\n      <td>1994</td>\n      <td>0.05</td>\n      <td>6.02</td>\n      <td>5.0</td>\n      <td>6.5</td>\n      <td>1006076.0</td>\n      <td>232156.0</td>\n    </tr>\n    <tr>\n      <th>2</th>\n      <td>10</td>\n      <td>10454.0</td>\n      <td>138 BRUCKNER BOULEVARD</td>\n      <td>35000</td>\n      <td>39375</td>\n      <td>0</td>\n      <td>0</td>\n      <td>0</td>\n      <td>1</td>\n      <td>2.0</td>\n      <td>200.0</td>\n      <td>200.0</td>\n      <td>1931</td>\n      <td>0</td>\n      <td>1.13</td>\n      <td>6.02</td>\n      <td>5.0</td>\n      <td>6.5</td>\n      <td>1006187.0</td>\n      <td>232036.0</td>\n    </tr>\n    <tr>\n      <th>3</th>\n      <td>17</td>\n      <td>10454.0</td>\n      <td>144 BRUCKNER BOULEVARD</td>\n      <td>2500</td>\n      <td>12500</td>\n      <td>12500</td>\n      <td>0</td>\n      <td>0</td>\n      <td>1</td>\n      <td>5.0</td>\n      <td>100.0</td>\n      <td>85.0</td>\n      <td>1931</td>\n      <td>2001</td>\n      <td>5.00</td>\n      <td>6.02</td>\n      <td>5.0</td>\n      <td>6.5</td>\n      <td>1006299.0</td>\n      <td>232033.0</td>\n    </tr>\n    <tr>\n      <th>4</th>\n      <td>18</td>\n      <td>10454.0</td>\n      <td>148 BRUCKNER BOULEVARD</td>\n      <td>1875</td>\n      <td>8595</td>\n      <td>6876</td>\n      <td>0</td>\n      <td>1719</td>\n      <td>1</td>\n      <td>5.0</td>\n      <td>75.0</td>\n      <td>70.0</td>\n      <td>1920</td>\n      <td>2009</td>\n      <td>4.58</td>\n      <td>6.02</td>\n      <td>5.0</td>\n      <td>6.5</td>\n      <td>1006363.0</td>\n      <td>232040.0</td>\n    </tr>\n  </tbody>\n</table>\n</div>", 
                        "text/plain": "   Lot  ZipCode                 Address  LotArea  BldgArea  ResArea  \\\n0    1  10454.0  122 BRUCKNER BOULEVARD    15000         0        0   \n1    4  10454.0  126 BRUCKNER BOULEVARD    13770       752        0   \n2   10  10454.0  138 BRUCKNER BOULEVARD    35000     39375        0   \n3   17  10454.0  144 BRUCKNER BOULEVARD     2500     12500    12500   \n4   18  10454.0  148 BRUCKNER BOULEVARD     1875      8595     6876   \n\n   OfficeArea  RetailArea  NumBldgs  NumFloors  LotDepth  BldgDepth  \\\n0           0           0         1        0.0     200.0        0.0   \n1         272           0         2        1.0     100.0       16.0   \n2           0           0         1        2.0     200.0      200.0   \n3           0           0         1        5.0     100.0       85.0   \n4           0        1719         1        5.0      75.0       70.0   \n\n   YearBuilt  YearAlter1  BuiltFAR  ResidFAR  CommFAR  FacilFAR     XCoord  \\\n0          0           0      0.00      6.02      5.0       6.5  1005957.0   \n1       1931        1994      0.05      6.02      5.0       6.5  1006076.0   \n2       1931           0      1.13      6.02      5.0       6.5  1006187.0   \n3       1931        2001      5.00      6.02      5.0       6.5  1006299.0   \n4       1920        2009      4.58      6.02      5.0       6.5  1006363.0   \n\n     YCoord  \n0  232162.0  \n1  232156.0  \n2  232036.0  \n3  232033.0  \n4  232040.0  "
                    }, 
                    "execution_count": 4, 
                    "metadata": {}
                }
            ], 
            "execution_count": 4
        }, 
        {
            "source": "### We create a subset pandas dataframe\n\nWith only the values to study, namely borough, address and location. After that we make and encoding setting BRONX as 1 and all others as 0\n", 
            "cell_type": "markdown", 
            "metadata": {}
        }, 
        {
            "source": "df_bronx_incidents = df_311[['complaint_type', 'incident_address', 'latitude', 'longitude']].loc[df_311['borough'] == 'BRONX']\ndf_bronx_incidents.head()", 
            "cell_type": "code", 
            "metadata": {}, 
            "outputs": [
                {
                    "output_type": "execute_result", 
                    "data": {
                        "text/html": "<div>\n<style scoped>\n    .dataframe tbody tr th:only-of-type {\n        vertical-align: middle;\n    }\n\n    .dataframe tbody tr th {\n        vertical-align: top;\n    }\n\n    .dataframe thead th {\n        text-align: right;\n    }\n</style>\n<table border=\"1\" class=\"dataframe\">\n  <thead>\n    <tr style=\"text-align: right;\">\n      <th></th>\n      <th>complaint_type</th>\n      <th>incident_address</th>\n      <th>latitude</th>\n      <th>longitude</th>\n    </tr>\n  </thead>\n  <tbody>\n    <tr>\n      <th>0</th>\n      <td>GENERAL</td>\n      <td>383 EAST  162 STREET</td>\n      <td>40.824952</td>\n      <td>-73.913944</td>\n    </tr>\n    <tr>\n      <th>1</th>\n      <td>GENERAL</td>\n      <td>383 EAST  162 STREET</td>\n      <td>40.824952</td>\n      <td>-73.913944</td>\n    </tr>\n    <tr>\n      <th>6</th>\n      <td>PAINT/PLASTER</td>\n      <td>2647 SEDGWICK AVENUE</td>\n      <td>40.869502</td>\n      <td>-73.904438</td>\n    </tr>\n    <tr>\n      <th>9</th>\n      <td>WATER LEAK</td>\n      <td>2647 SEDGWICK AVENUE</td>\n      <td>40.869502</td>\n      <td>-73.904438</td>\n    </tr>\n    <tr>\n      <th>10</th>\n      <td>WATER LEAK</td>\n      <td>2647 SEDGWICK AVENUE</td>\n      <td>40.869502</td>\n      <td>-73.904438</td>\n    </tr>\n  </tbody>\n</table>\n</div>", 
                        "text/plain": "   complaint_type      incident_address   latitude  longitude\n0         GENERAL  383 EAST  162 STREET  40.824952 -73.913944\n1         GENERAL  383 EAST  162 STREET  40.824952 -73.913944\n6   PAINT/PLASTER  2647 SEDGWICK AVENUE  40.869502 -73.904438\n9      WATER LEAK  2647 SEDGWICK AVENUE  40.869502 -73.904438\n10     WATER LEAK  2647 SEDGWICK AVENUE  40.869502 -73.904438"
                    }, 
                    "execution_count": 4, 
                    "metadata": {}
                }
            ], 
            "execution_count": 4
        }, 
        {
            "source": "df_bronx_incidents['complaint_type'] = (df_bronx_incidents['complaint_type'] == 'HEAT/HOT WATER').astype(int)", 
            "cell_type": "code", 
            "metadata": {}, 
            "outputs": [], 
            "execution_count": 5
        }, 
        {
            "source": "import matplotlib.pyplot as plt\n%matplotlib inline\ndf_bronx_incidents.groupby('complaint_type').agg('complaint_type').count().plot.bar()", 
            "cell_type": "code", 
            "metadata": {}, 
            "outputs": [
                {
                    "output_type": "execute_result", 
                    "data": {
                        "text/plain": "<matplotlib.axes._subplots.AxesSubplot at 0x7f5a670a1470>"
                    }, 
                    "execution_count": 6, 
                    "metadata": {}
                }, 
                {
                    "output_type": "display_data", 
                    "data": {
                        "image/png": "[encoded data removed]", 
                        "text/plain": "<matplotlib.figure.Figure at 0x7f5aaa0f3898>"
                    }, 
                    "metadata": {}
                }
            ], 
            "execution_count": 6
        }, 
        {
            "source": "### We need to join incidents with building information\n\nA left inner join is what we need", 
            "cell_type": "markdown", 
            "metadata": {}
        }, 
        {
            "source": "df_bronx = pd.merge(df_bronx_incidents, df_bronx_info, how='left', left_on=['incident_address'], right_on=['Address'])", 
            "cell_type": "code", 
            "metadata": {}, 
            "outputs": [], 
            "execution_count": 7
        }, 
        {
            "source": "df_bronx.shape", 
            "cell_type": "code", 
            "metadata": {}, 
            "outputs": [
                {
                    "output_type": "execute_result", 
                    "data": {
                        "text/plain": "(1510149, 24)"
                    }, 
                    "execution_count": 8, 
                    "metadata": {}
                }
            ], 
            "execution_count": 8
        }, 
        {
            "source": "### There are incident streets not available in the pluto file, so we just drop them", 
            "cell_type": "markdown", 
            "metadata": {}
        }, 
        {
            "source": "df_bronx.dropna(inplace=True)", 
            "cell_type": "code", 
            "metadata": {}, 
            "outputs": [], 
            "execution_count": 9
        }, 
        {
            "source": "### Let's get rid of the addresses\n\nLet's see how many null values we have in the dataframe, and then eliminate them. Also we can select Lot as the index", 
            "cell_type": "markdown", 
            "metadata": {}
        }, 
        {
            "source": "df_bronx.drop(['Address', 'incident_address'], axis=1, inplace=True)\ndf_bronx.set_index('Lot', inplace=True)", 
            "cell_type": "code", 
            "metadata": {
                "scrolled": false
            }, 
            "outputs": [], 
            "execution_count": 10
        }, 
        {
            "source": "### Eliminate duplicates\n\nThere are a lot of duplicates. We are cleaning them and it results in 33880 rows", 
            "cell_type": "markdown", 
            "metadata": {}
        }, 
        {
            "source": "df_bronx.drop_duplicates(inplace=True)", 
            "cell_type": "code", 
            "metadata": {}, 
            "outputs": [], 
            "execution_count": 11
        }, 
        {
            "source": "df_bronx.shape", 
            "cell_type": "code", 
            "metadata": {}, 
            "outputs": [
                {
                    "output_type": "execute_result", 
                    "data": {
                        "text/plain": "(33880, 21)"
                    }, 
                    "execution_count": 12, 
                    "metadata": {}
                }
            ], 
            "execution_count": 12
        }, 
        {
            "source": "### Let's define dependant and independant variables", 
            "cell_type": "markdown", 
            "metadata": {}
        }, 
        {
            "source": "import numpy as np\n\ny = np.asarray(df_bronx['complaint_type'])\npredictors = df_bronx.columns.difference(['complaint_type'])\nX = df_bronx[predictors]", 
            "cell_type": "code", 
            "metadata": {}, 
            "outputs": [], 
            "execution_count": 13
        }, 
        {
            "source": "X.head(10)", 
            "cell_type": "code", 
            "metadata": {
                "scrolled": true
            }, 
            "outputs": [
                {
                    "output_type": "execute_result", 
                    "data": {
                        "text/html": "<div>\n<style scoped>\n    .dataframe tbody tr th:only-of-type {\n        vertical-align: middle;\n    }\n\n    .dataframe tbody tr th {\n        vertical-align: top;\n    }\n\n    .dataframe thead th {\n        text-align: right;\n    }\n</style>\n<table border=\"1\" class=\"dataframe\">\n  <thead>\n    <tr style=\"text-align: right;\">\n      <th></th>\n      <th>BldgArea</th>\n      <th>BldgDepth</th>\n      <th>BuiltFAR</th>\n      <th>CommFAR</th>\n      <th>FacilFAR</th>\n      <th>LotArea</th>\n      <th>LotDepth</th>\n      <th>NumBldgs</th>\n      <th>NumFloors</th>\n      <th>OfficeArea</th>\n      <th>ResArea</th>\n      <th>ResidFAR</th>\n      <th>RetailArea</th>\n      <th>XCoord</th>\n      <th>YCoord</th>\n      <th>YearAlter1</th>\n      <th>YearBuilt</th>\n      <th>ZipCode</th>\n      <th>latitude</th>\n      <th>longitude</th>\n    </tr>\n    <tr>\n      <th>Lot</th>\n      <th></th>\n      <th></th>\n      <th></th>\n      <th></th>\n      <th></th>\n      <th></th>\n      <th></th>\n      <th></th>\n      <th></th>\n      <th></th>\n      <th></th>\n      <th></th>\n      <th></th>\n      <th></th>\n      <th></th>\n      <th></th>\n      <th></th>\n      <th></th>\n      <th></th>\n      <th></th>\n    </tr>\n  </thead>\n  <tbody>\n    <tr>\n      <th>100.0</th>\n      <td>27225.0</td>\n      <td>90.0</td>\n      <td>4.54</td>\n      <td>0.0</td>\n      <td>4.8</td>\n      <td>6003.0</td>\n      <td>121.83</td>\n      <td>1.0</td>\n      <td>5.0</td>\n      <td>0.0</td>\n      <td>25225.0</td>\n      <td>2.43</td>\n      <td>2000.0</td>\n      <td>1010691.0</td>\n      <td>256196.0</td>\n      <td>0.0</td>\n      <td>1924.0</td>\n      <td>10468.0</td>\n      <td>40.869502</td>\n      <td>-73.904438</td>\n    </tr>\n    <tr>\n      <th>21.0</th>\n      <td>54500.0</td>\n      <td>81.0</td>\n      <td>4.04</td>\n      <td>0.0</td>\n      <td>4.8</td>\n      <td>13500.0</td>\n      <td>90.00</td>\n      <td>1.0</td>\n      <td>5.0</td>\n      <td>0.0</td>\n      <td>50350.0</td>\n      <td>3.44</td>\n      <td>4150.0</td>\n      <td>1010610.0</td>\n      <td>235664.0</td>\n      <td>2011.0</td>\n      <td>1926.0</td>\n      <td>10455.0</td>\n      <td>40.813584</td>\n      <td>-73.905006</td>\n    </tr>\n    <tr>\n      <th>40.0</th>\n      <td>63836.0</td>\n      <td>113.0</td>\n      <td>5.31</td>\n      <td>0.0</td>\n      <td>6.5</td>\n      <td>12021.0</td>\n      <td>123.17</td>\n      <td>1.0</td>\n      <td>6.0</td>\n      <td>1250.0</td>\n      <td>62586.0</td>\n      <td>6.02</td>\n      <td>0.0</td>\n      <td>1015466.0</td>\n      <td>257916.0</td>\n      <td>0.0</td>\n      <td>1927.0</td>\n      <td>10468.0</td>\n      <td>40.874261</td>\n      <td>-73.886703</td>\n    </tr>\n    <tr>\n      <th>63.0</th>\n      <td>8020.0</td>\n      <td>82.0</td>\n      <td>3.41</td>\n      <td>0.0</td>\n      <td>4.8</td>\n      <td>2353.0</td>\n      <td>94.62</td>\n      <td>1.0</td>\n      <td>4.0</td>\n      <td>0.0</td>\n      <td>5970.0</td>\n      <td>2.43</td>\n      <td>2050.0</td>\n      <td>1011014.0</td>\n      <td>236762.0</td>\n      <td>0.0</td>\n      <td>1910.0</td>\n      <td>10455.0</td>\n      <td>40.816478</td>\n      <td>-73.902954</td>\n    </tr>\n    <tr>\n      <th>130.0</th>\n      <td>10308.0</td>\n      <td>0.0</td>\n      <td>2.79</td>\n      <td>0.0</td>\n      <td>4.8</td>\n      <td>3701.0</td>\n      <td>95.65</td>\n      <td>1.0</td>\n      <td>4.0</td>\n      <td>0.0</td>\n      <td>10308.0</td>\n      <td>2.43</td>\n      <td>0.0</td>\n      <td>1011029.0</td>\n      <td>237284.0</td>\n      <td>0.0</td>\n      <td>2003.0</td>\n      <td>10455.0</td>\n      <td>40.818093</td>\n      <td>-73.903530</td>\n    </tr>\n    <tr>\n      <th>1.0</th>\n      <td>61800.0</td>\n      <td>150.0</td>\n      <td>4.16</td>\n      <td>0.0</td>\n      <td>4.8</td>\n      <td>14850.0</td>\n      <td>150.00</td>\n      <td>2.0</td>\n      <td>5.0</td>\n      <td>0.0</td>\n      <td>61800.0</td>\n      <td>2.43</td>\n      <td>0.0</td>\n      <td>1020820.0</td>\n      <td>258276.0</td>\n      <td>0.0</td>\n      <td>1926.0</td>\n      <td>10467.0</td>\n      <td>40.875292</td>\n      <td>-73.867797</td>\n    </tr>\n    <tr>\n      <th>50.0</th>\n      <td>46212.0</td>\n      <td>90.0</td>\n      <td>4.62</td>\n      <td>0.0</td>\n      <td>4.8</td>\n      <td>10000.0</td>\n      <td>100.00</td>\n      <td>1.0</td>\n      <td>6.0</td>\n      <td>0.0</td>\n      <td>46212.0</td>\n      <td>3.44</td>\n      <td>0.0</td>\n      <td>1021040.0</td>\n      <td>250237.0</td>\n      <td>0.0</td>\n      <td>1939.0</td>\n      <td>10462.0</td>\n      <td>40.853364</td>\n      <td>-73.866738</td>\n    </tr>\n    <tr>\n      <th>62.0</th>\n      <td>38388.0</td>\n      <td>124.0</td>\n      <td>4.36</td>\n      <td>0.0</td>\n      <td>6.5</td>\n      <td>8800.0</td>\n      <td>160.00</td>\n      <td>1.0</td>\n      <td>7.0</td>\n      <td>600.0</td>\n      <td>36588.0</td>\n      <td>6.02</td>\n      <td>1200.0</td>\n      <td>1013436.0</td>\n      <td>255116.0</td>\n      <td>0.0</td>\n      <td>1952.0</td>\n      <td>10468.0</td>\n      <td>40.866679</td>\n      <td>-73.893925</td>\n    </tr>\n    <tr>\n      <th>49.0</th>\n      <td>19235.0</td>\n      <td>93.5</td>\n      <td>3.49</td>\n      <td>0.0</td>\n      <td>4.8</td>\n      <td>5515.0</td>\n      <td>110.03</td>\n      <td>1.0</td>\n      <td>5.0</td>\n      <td>0.0</td>\n      <td>19235.0</td>\n      <td>3.44</td>\n      <td>0.0</td>\n      <td>1005219.0</td>\n      <td>246002.0</td>\n      <td>1991.0</td>\n      <td>1912.0</td>\n      <td>10452.0</td>\n      <td>40.841998</td>\n      <td>-73.924468</td>\n    </tr>\n    <tr>\n      <th>111.0</th>\n      <td>50800.0</td>\n      <td>117.0</td>\n      <td>3.75</td>\n      <td>0.0</td>\n      <td>4.8</td>\n      <td>13554.0</td>\n      <td>135.00</td>\n      <td>1.0</td>\n      <td>5.0</td>\n      <td>0.0</td>\n      <td>50800.0</td>\n      <td>2.43</td>\n      <td>0.0</td>\n      <td>1010442.0</td>\n      <td>256030.0</td>\n      <td>0.0</td>\n      <td>1922.0</td>\n      <td>10468.0</td>\n      <td>40.868973</td>\n      <td>-73.905368</td>\n    </tr>\n  </tbody>\n</table>\n</div>", 
                        "text/plain": "       BldgArea  BldgDepth  BuiltFAR  CommFAR  FacilFAR  LotArea  LotDepth  \\\nLot                                                                          \n100.0   27225.0       90.0      4.54      0.0       4.8   6003.0    121.83   \n21.0    54500.0       81.0      4.04      0.0       4.8  13500.0     90.00   \n40.0    63836.0      113.0      5.31      0.0       6.5  12021.0    123.17   \n63.0     8020.0       82.0      3.41      0.0       4.8   2353.0     94.62   \n130.0   10308.0        0.0      2.79      0.0       4.8   3701.0     95.65   \n1.0     61800.0      150.0      4.16      0.0       4.8  14850.0    150.00   \n50.0    46212.0       90.0      4.62      0.0       4.8  10000.0    100.00   \n62.0    38388.0      124.0      4.36      0.0       6.5   8800.0    160.00   \n49.0    19235.0       93.5      3.49      0.0       4.8   5515.0    110.03   \n111.0   50800.0      117.0      3.75      0.0       4.8  13554.0    135.00   \n\n       NumBldgs  NumFloors  OfficeArea  ResArea  ResidFAR  RetailArea  \\\nLot                                                                     \n100.0       1.0        5.0         0.0  25225.0      2.43      2000.0   \n21.0        1.0        5.0         0.0  50350.0      3.44      4150.0   \n40.0        1.0        6.0      1250.0  62586.0      6.02         0.0   \n63.0        1.0        4.0         0.0   5970.0      2.43      2050.0   \n130.0       1.0        4.0         0.0  10308.0      2.43         0.0   \n1.0         2.0        5.0         0.0  61800.0      2.43         0.0   \n50.0        1.0        6.0         0.0  46212.0      3.44         0.0   \n62.0        1.0        7.0       600.0  36588.0      6.02      1200.0   \n49.0        1.0        5.0         0.0  19235.0      3.44         0.0   \n111.0       1.0        5.0         0.0  50800.0      2.43         0.0   \n\n          XCoord    YCoord  YearAlter1  YearBuilt  ZipCode   latitude  \\\nLot                                                                     \n100.0  1010691.0  256196.0         0.0     1924.0  10468.0  40.869502   \n21.0   1010610.0  235664.0      2011.0     1926.0  10455.0  40.813584   \n40.0   1015466.0  257916.0         0.0     1927.0  10468.0  40.874261   \n63.0   1011014.0  236762.0         0.0     1910.0  10455.0  40.816478   \n130.0  1011029.0  237284.0         0.0     2003.0  10455.0  40.818093   \n1.0    1020820.0  258276.0         0.0     1926.0  10467.0  40.875292   \n50.0   1021040.0  250237.0         0.0     1939.0  10462.0  40.853364   \n62.0   1013436.0  255116.0         0.0     1952.0  10468.0  40.866679   \n49.0   1005219.0  246002.0      1991.0     1912.0  10452.0  40.841998   \n111.0  1010442.0  256030.0         0.0     1922.0  10468.0  40.868973   \n\n       longitude  \nLot               \n100.0 -73.904438  \n21.0  -73.905006  \n40.0  -73.886703  \n63.0  -73.902954  \n130.0 -73.903530  \n1.0   -73.867797  \n50.0  -73.866738  \n62.0  -73.893925  \n49.0  -73.924468  \n111.0 -73.905368  "
                    }, 
                    "execution_count": 14, 
                    "metadata": {}
                }
            ], 
            "execution_count": 14
        }, 
        {
            "source": "from sklearn import preprocessing\nX = preprocessing.StandardScaler().fit(X).transform(X)", 
            "cell_type": "code", 
            "metadata": {}, 
            "outputs": [], 
            "execution_count": 15
        }, 
        {
            "source": "X.head(10)", 
            "cell_type": "code", 
            "metadata": {}, 
            "outputs": [
                {
                    "output_type": "error", 
                    "evalue": "'numpy.ndarray' object has no attribute 'head'", 
                    "traceback": [
                        "\u001b[0;31m---------------------------------------------------------------------------\u001b[0m", 
                        "\u001b[0;31mAttributeError\u001b[0m                            Traceback (most recent call last)", 
                        "\u001b[0;32m<ipython-input-16-621ce758b3e4>\u001b[0m in \u001b[0;36m<module>\u001b[0;34m()\u001b[0m\n\u001b[0;32m----> 1\u001b[0;31m \u001b[0mX\u001b[0m\u001b[0;34m.\u001b[0m\u001b[0mhead\u001b[0m\u001b[0;34m(\u001b[0m\u001b[0;36m10\u001b[0m\u001b[0;34m)\u001b[0m\u001b[0;34m\u001b[0m\u001b[0m\n\u001b[0m", 
                        "\u001b[0;31mAttributeError\u001b[0m: 'numpy.ndarray' object has no attribute 'head'"
                    ], 
                    "ename": "AttributeError"
                }
            ], 
            "execution_count": 16
        }, 
        {
            "source": "from scipy.stats import pearsonr", 
            "cell_type": "code", 
            "metadata": {}, 
            "outputs": [], 
            "execution_count": null
        }, 
        {
            "source": "###\u00a0Let's calculate correlations\n\nPearson correlation. As we want to know the importance as predictor, the absolute value is the indicator of correlation (ignoring if it is possitive or negative", 
            "cell_type": "markdown", 
            "metadata": {}
        }, 
        {
            "source": "correlations = []\nfor variable in df_bronx[df_bronx.columns.difference(['complaint_type'])]:\n    corr, p_value = pearsonr(y, X[variable])\n    correlations.append([variable,corr,p_value])\ndf_correlations = pd.DataFrame.from_records(correlations, columns=['predictor','Pearson correlation','p value'])\n", 
            "cell_type": "code", 
            "metadata": {}, 
            "outputs": [], 
            "execution_count": null
        }, 
        {
            "source": "df_correlations.sort_values('Pearson correlation').head()", 
            "cell_type": "code", 
            "metadata": {}, 
            "outputs": [], 
            "execution_count": null
        }, 
        {
            "source": "df_correlations.sort_values('Pearson correlation', ascending=False).head()", 
            "cell_type": "code", 
            "metadata": {}, 
            "outputs": [], 
            "execution_count": null
        }, 
        {
            "source": "### Resulting in:\n\n1. NumFloors (+)\n2. BldgDepth (+)\n3. ResidFAR (+)\n3. FacilFAR (+)\n3. XCoord (-)", 
            "cell_type": "markdown", 
            "metadata": {}
        }, 
        {
            "source": "df_bronx.plot.scatter(x='NumFloors', y='BldgDepth', c='complaint_type')", 
            "cell_type": "code", 
            "metadata": {}, 
            "outputs": [], 
            "execution_count": null
        }, 
        {
            "source": "df_bronx['NumFloors'].plot.bar()", 
            "cell_type": "code", 
            "metadata": {}, 
            "outputs": [], 
            "execution_count": null
        }
    ], 
    "metadata": {
        "kernelspec": {
            "display_name": "Python 3.5", 
            "name": "python3", 
            "language": "python"
        }, 
        "language_info": {
            "mimetype": "text/x-python", 
            "nbconvert_exporter": "python", 
            "version": "3.5.5", 
            "name": "python", 
            "pygments_lexer": "ipython3", 
            "file_extension": ".py", 
            "codemirror_mode": {
                "version": 3, 
                "name": "ipython"
            }
        }
    }, 
    "nbformat": 4
}